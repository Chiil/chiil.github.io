{
 "cells": [
  {
   "cell_type": "code",
   "execution_count": null,
   "id": "13e8ab60",
   "metadata": {},
   "outputs": [],
   "source": [
    "# import data from excel into pandas\n",
    "import pandas as pd\n",
    "\n",
    "# read data from excel, from sheet 'Ratings'\n",
    "df = pd.read_excel('GroupMemberEvaluation.xlsx', sheet_name='Ratings')\n",
    "df_student_ratings = df.iloc[:,5:].drop('The rated work of student id', axis=1) # Only take rating columns and student name column\n",
    "df_group_ratings   = df.iloc[:,4:].drop(['The rated work of student id', 'The rated work of student name'], axis=1) # Only take rating columns and group column\n",
    "\n",
    "#### METRIC 1: Average rating and std of each student ####\n",
    "\n",
    "# Group by \"The rated work of student name\" and calculate the mean and std of the ratings\n",
    "df_student_average = df_student_ratings.groupby('The rated work of student name').mean()\n",
    "df_student_std     = df_student_ratings.groupby('The rated work of student name').std()"
   ]
  },
  {
   "cell_type": "code",
   "execution_count": null,
   "id": "465c4ca3",
   "metadata": {},
   "outputs": [],
   "source": [
    "#### METRIC 2: Students compared to their group ####\n",
    "\n",
    "# Group by \"The rated work of group\" and calculate the mean of the ratings\n",
    "df_group_average = df_group_ratings.groupby('The rated work of group').mean()\n",
    "\n",
    "# Add group column by merging with the original dataframe\n",
    "interm_student_average_merge = pd.merge(df_student_average, df[['The rated work of student name', 'The rated work of group']].drop_duplicates(), on='The rated work of student name', how='inner')\n",
    "# Merge student average with group average\n",
    "df_comparison = pd.merge(interm_student_average_merge, df_group_average, on='The rated work of group', how='inner')\n",
    "# Subtract group average from student average\n",
    "df_comparison.iloc[:,1:15] = df_comparison.iloc[:,1:15].values - df_comparison.iloc[:,16:].values\n",
    "# Calculate mean of the differences\n",
    "df_comparison['Mean difference from group'] = df_comparison.iloc[:,1:15].mean(axis=1)"
   ]
  },
  {
   "cell_type": "code",
   "execution_count": null,
   "id": "efe283c7",
   "metadata": {},
   "outputs": [],
   "source": [
    "#### METRIC 3: Summary table and complete tables ####\n",
    "\n",
    "df_summary = df_comparison[['The rated work of student name', 'The rated work of group', 'Mean difference from group']]\n",
    "# Add student average and std\n",
    "df_student_average[\"Average\"] = df_student_average.iloc[:,1:].mean(axis=1)\n",
    "df_student_std[\"Average Std\"] = df_student_std.iloc[:,1:].mean(axis=1)\n",
    "df_group_average[\"Average\"] = df_group_average.iloc[:,1:].mean(axis=1)\n",
    "df_summary = pd.merge(df_summary, df_student_average[['Average']], left_on='The rated work of student name', right_index=True, how='inner')\n",
    "df_summary = pd.merge(df_summary, df_student_std[['Average Std']], left_on='The rated work of student name', right_index=True, how='inner')"
   ]
  },
  {
   "cell_type": "code",
   "execution_count": null,
   "id": "25870c0f",
   "metadata": {},
   "outputs": [],
   "source": [
    "#### METRIC 4: Difference between average grade given and received ####\n",
    "# As function: identifier ratings given, identifier ratings received, rating columns, full dataframe\n",
    "\n",
    "def calculate_difference(given_identifier, received_identifier, rating_column_names, df):\n",
    "    \n",
    "    # Filter out the rating columns\n",
    "    df_given = df[[given_identifier] + rating_column_names]\n",
    "    df_received = df[[received_identifier] + rating_column_names]\n",
    "\n",
    "    # Calculate the mean of the ratings given\n",
    "    df_given_mean = df_given.groupby(given_identifier).mean().reset_index()\n",
    "\n",
    "    # Calculate the mean of the ratings received\n",
    "    df_received_mean = df_received.groupby(received_identifier).mean().reset_index()\n",
    "\n",
    "    df_merged = pd.merge(df_given_mean, df_received_mean, how='outer', \n",
    "                        left_on=given_identifier, right_on=received_identifier)\n",
    "\n",
    "    # Subtract corresponding columns\n",
    "    for name in rating_column_names:\n",
    "        df_merged[name + '_difference'] = df_merged[name + '_x'] - df_merged[name + '_y']\n",
    "\n",
    "    # Average the differences\n",
    "    df_merged['Given-received mean difference'] = df_merged[[name + '_difference' for name in rating_column_names]].mean(axis=1)\n",
    "\n",
    "    # Check for the longer dataframe, use as index\n",
    "    longer =  given_identifier if len(df_given_mean) > len(df_received_mean) else received_identifier\n",
    "    df_output = df_merged[[longer, 'Given-received mean difference']].set_index(longer)\n",
    "\n",
    "    return df_output\n",
    "\n",
    "rating_column_names = ['Targeted work', 'Team orientation ',\n",
    "       'Efficiency in work habits', 'Work technique', 'Guidance',\n",
    "       'Independence', 'Cooperation', 'Conflict/criticism',\n",
    "       'Willingness to take on responsibility', 'Flexibility',\n",
    "       'Situation-appropriate behavior', 'Communication skills', 'Motivation',\n",
    "       ' Resilience/Ability to work under pressure']\n",
    "given_identifier = 'Student name'\n",
    "received_identifier = 'The rated work of student name'\n",
    "\n",
    "\n",
    "df_output = calculate_difference(given_identifier, received_identifier, rating_column_names, df)\n",
    "\n",
    "# Add output to summary table\n",
    "df_summary = pd.merge(df_summary, df_output, left_on='The rated work of student name', right_index=True, how='inner')"
   ]
  }
 ],
 "metadata": {
  "kernelspec": {
   "display_name": "Python 3 (ipykernel)",
   "language": "python",
   "name": "python3"
  },
  "language_info": {
   "codemirror_mode": {
    "name": "ipython",
    "version": 3
   },
   "file_extension": ".py",
   "mimetype": "text/x-python",
   "name": "python",
   "nbconvert_exporter": "python",
   "pygments_lexer": "ipython3",
   "version": "3.11.9"
  }
 },
 "nbformat": 4,
 "nbformat_minor": 5
}
